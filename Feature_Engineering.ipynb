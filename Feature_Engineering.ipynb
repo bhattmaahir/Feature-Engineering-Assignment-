{
  "nbformat": 4,
  "nbformat_minor": 0,
  "metadata": {
    "colab": {
      "provenance": []
    },
    "kernelspec": {
      "name": "python3",
      "display_name": "Python 3"
    },
    "language_info": {
      "name": "python"
    }
  },
  "cells": [
    {
      "cell_type": "markdown",
      "source": [
        "# Feature Engineering\n",
        "# Assignment Questions"
      ],
      "metadata": {
        "id": "jTcCzwye2Rak"
      }
    },
    {
      "cell_type": "markdown",
      "source": [
        "1. What is a parameter?\n",
        "\n",
        "    A parameter is an internal variable in a machine learning model whose value is learned from the training data, e.g., weights in a linear regression model.\n"
      ],
      "metadata": {
        "id": "tfDiRHoT2SKk"
      }
    },
    {
      "cell_type": "markdown",
      "source": [
        "\n",
        "2. What is correlation?\n",
        "\n",
        "    Correlation measures the statistical relationship between two variables, indicating how one may change with respect to the other.\n",
        "\n",
        "\n",
        "\n"
      ],
      "metadata": {
        "id": "WT17aWii2SNx"
      }
    },
    {
      "cell_type": "markdown",
      "source": [
        "\n",
        "3. What does negative correlation mean?\n",
        "\n",
        "    Negative correlation means that as one variable increases, the other decreases. The correlation coefficient is less than 0.\n"
      ],
      "metadata": {
        "id": "1uEzL6pb2SQa"
      }
    },
    {
      "cell_type": "markdown",
      "source": [
        "\n",
        "4. Define Machine Learning. What are the main components in Machine Learning?\n",
        "\n",
        "    Machine Learning is a subset of AI where systems learn from data to improve performance on a task.\n",
        "\n",
        "    Main components:\n",
        "\n",
        "    Data\n",
        "\n",
        "    Features\n",
        "\n",
        "    Model\n",
        "\n",
        "    Training process\n",
        "\n",
        "    Evaluation metrics\n",
        ""
      ],
      "metadata": {
        "id": "9__lfewF2SS8"
      }
    },
    {
      "cell_type": "markdown",
      "source": [
        "\n",
        "5. How does loss value help in determining whether the model is good or not?\n",
        "\n",
        "    The loss value quantifies how far off predictions are from actual values. A lower loss indicates a better model.\n"
      ],
      "metadata": {
        "id": "pIIIYc_52SVr"
      }
    },
    {
      "cell_type": "markdown",
      "source": [
        "\n",
        "6. What are continuous and categorical variables?\n",
        "\n",
        "    Continuous: Numeric and measurable (e.g., height, age)\n",
        "\n",
        "    Categorical: Discrete categories (e.g., gender, color)\n"
      ],
      "metadata": {
        "id": "O4IdhdLI2SYX"
      }
    },
    {
      "cell_type": "markdown",
      "source": [
        "\n",
        "7. How do we handle categorical variables in Machine Learning? What are the common techniques?\n",
        "\n",
        "    Common techniques:\n",
        "\n",
        "    Label Encoding\n",
        "\n",
        "    One-Hot Encoding\n",
        "\n",
        "    Target Encoding\n"
      ],
      "metadata": {
        "id": "LxxJtjKq2SbQ"
      }
    },
    {
      "cell_type": "markdown",
      "source": [
        "\n",
        "8. What do you mean by training and testing a dataset?\n",
        "\n",
        "    Training: Data used to train the model\n",
        "\n",
        "    Testing: Data used to evaluate model performance\n"
      ],
      "metadata": {
        "id": "zVNAXB7s2Sd-"
      }
    },
    {
      "cell_type": "markdown",
      "source": [
        "\n",
        "9. What is sklearn.preprocessing?\n",
        "\n",
        "    It’s a module in Scikit-learn for data preprocessing (e.g., encoding, scaling, normalization).\n"
      ],
      "metadata": {
        "id": "EpSHh4Fl2ShF"
      }
    },
    {
      "cell_type": "markdown",
      "source": [
        "\n",
        "10. What is a Test set?\n",
        "\n",
        "    A subset of data not seen by the model during training, used to assess model generalization.\n"
      ],
      "metadata": {
        "id": "ZLEYVOJS2SjQ"
      }
    },
    {
      "cell_type": "markdown",
      "source": [
        "\n",
        "11. How do we split data for model fitting (training and testing) in Python?\n",
        "\n",
        "    Using train_test_split() from sklearn.model_selection.\n"
      ],
      "metadata": {
        "id": "VmPH1ThE2Sk-"
      }
    },
    {
      "cell_type": "markdown",
      "source": [
        "\n",
        "12. How do you approach a Machine Learning problem?\n",
        "\n",
        "    Understand the problem\n",
        "\n",
        "    Gather and preprocess data\n",
        "\n",
        "    Perform EDA\n",
        "\n",
        "    Select features\n",
        "\n",
        "    Choose a model\n",
        "\n",
        "    Train and evaluate\n",
        "\n",
        "    Fine-tune and deploy\n"
      ],
      "metadata": {
        "id": "GPH2zcvh2Snx"
      }
    },
    {
      "cell_type": "markdown",
      "source": [
        "\n",
        "13. Why do we have to perform EDA before fitting a model to the data?\n",
        "\n",
        "    To understand data distribution, detect outliers, handle missing values, and discover relationships.\n"
      ],
      "metadata": {
        "id": "bTSC1ZHS2SrP"
      }
    },
    {
      "cell_type": "markdown",
      "source": [
        "14. What is correlation?\n",
        "\n",
        "    Correlation measures the statistical relationship between two variables, indicating how one may change with respect to the other.\n",
        "\n",
        "\n"
      ],
      "metadata": {
        "id": "2iL41a6V2SuT"
      }
    },
    {
      "cell_type": "markdown",
      "source": [
        "15. What does negative correlation mean?\n",
        "\n",
        "    Negative correlation means that as one variable increases, the other decreases. The correlation coefficient is less than 0."
      ],
      "metadata": {
        "id": "_a6HhvzO2Sxg"
      }
    },
    {
      "cell_type": "markdown",
      "source": [
        "\n",
        "16. How can you find correlation between variables in Python?\n",
        "\n",
        "    Using df.corr() in pandas or seaborn.heatmap() to visualize.\n",
        "\n",
        "\n"
      ],
      "metadata": {
        "id": "gOPsqieo2S0U"
      }
    },
    {
      "cell_type": "markdown",
      "source": [
        "\n",
        "17. What is causation? Explain difference between correlation and causation with an example.\n",
        "    \n",
        "    Causation means one variable directly affects another.\n",
        "    \n",
        "    Example:\n",
        "\n",
        "    Correlation: Ice cream sales & drowning (both increase in summer)\n",
        "\n",
        "    Causation: Smoking causes lung cancer\n"
      ],
      "metadata": {
        "id": "P_a5DoN02S2y"
      }
    },
    {
      "cell_type": "markdown",
      "source": [
        "\n",
        "\n",
        "18. What is an Optimizer? What are different types of optimizers? Explain each with an example.\n",
        "\n",
        "    An optimizer updates model parameters to minimize loss.\n",
        "    \n",
        "    Types:\n",
        "\n",
        "    SGD: Basic gradient descent\n",
        "\n",
        "    Adam: Adaptive learning rate\n",
        "\n",
        "    RMSProp: Handles non-stationary objectives\n",
        "\n"
      ],
      "metadata": {
        "id": "7lX2rjJr3-CD"
      }
    },
    {
      "cell_type": "markdown",
      "source": [
        "19. What is sklearn.linear_model?\n",
        "\n",
        "    A module in Scikit-learn for linear models like Linear Regression, Logistic Regression.\n",
        "\n"
      ],
      "metadata": {
        "id": "Ls5Gl9hu3-KB"
      }
    },
    {
      "cell_type": "markdown",
      "source": [
        "20. What does model.fit() do? What arguments must be given?\n",
        "    \n",
        "    Trains the model. Arguments:\n",
        "\n",
        "    X: training data\n",
        "\n",
        "    y: target labels\n",
        "\n"
      ],
      "metadata": {
        "id": "oYP3aZzw3-R7"
      }
    },
    {
      "cell_type": "markdown",
      "source": [
        "21. What does model.predict() do? What arguments must be given?\n",
        "    \n",
        "    Predicts outcomes. Arguments:\n",
        "\n",
        "    X: input data\n",
        "\n"
      ],
      "metadata": {
        "id": "PHS8T-hn3-ZL"
      }
    },
    {
      "cell_type": "markdown",
      "source": [
        "22. What are continuous and categorical variables?\n",
        "\n",
        "    Continuous: Numeric and measurable (e.g., height, age)\n",
        "\n",
        "    Categorical: Discrete categories (e.g., gender, color)\n"
      ],
      "metadata": {
        "id": "WTqi3d093-fP"
      }
    },
    {
      "cell_type": "markdown",
      "source": [
        "23. What is feature scaling? How does it help in Machine Learning?\n",
        "\n",
        "    Scaling standardizes feature ranges to improve convergence and performance. Essential for distance-based models.\n",
        "\n"
      ],
      "metadata": {
        "id": "S1SwPjlk3-mC"
      }
    },
    {
      "cell_type": "markdown",
      "source": [
        "24. How do we perform scaling in Python?\n",
        "    \n",
        "    Using StandardScaler, MinMaxScaler from sklearn.preprocessing.\n",
        "\n"
      ],
      "metadata": {
        "id": "eXHuthF23-t6"
      }
    },
    {
      "cell_type": "markdown",
      "source": [
        "25. Explain data encoding?\n",
        "\n",
        "    Converts categorical data into numerical format.\n",
        "    \n",
        "    Techniques:\n",
        "\n",
        "    Label Encoding\n",
        "\n",
        "    One-Hot Encoding"
      ],
      "metadata": {
        "id": "P1ACjYOY3-z4"
      }
    }
  ]
}